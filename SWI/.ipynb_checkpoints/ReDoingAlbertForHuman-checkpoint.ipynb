{
 "cells": [
  {
   "cell_type": "markdown",
   "id": "6ff1ffce",
   "metadata": {},
   "source": [
    "# Re-doing what Albert did for his thesis but with only DNASU dataset and only those proteins that are from Human"
   ]
  },
  {
   "cell_type": "markdown",
   "id": "6ce9d577",
   "metadata": {},
   "source": [
    "## Loading packages"
   ]
  },
  {
   "cell_type": "code",
   "execution_count": 8,
   "id": "797c342c",
   "metadata": {},
   "outputs": [],
   "source": [
    "import pandas as pd\n",
    "import matplotlib.pyplot as plt\n",
    "import seaborn as sns\n",
    "import sys\n",
    "import numpy as np\n",
    "from Bio.SeqUtils.ProtParam import ProteinAnalysis\n",
    "from matplotlib_venn import venn2, venn2_circles, venn2_unweighted\n",
    "from matplotlib_venn import venn3, venn3_circles\n",
    "import statistics\n",
    "from sklearn import preprocessing\n",
    "from sklearn.svm import SVC\n",
    "from sklearn.ensemble import RandomForestClassifier\n",
    "from sklearn.linear_model import LogisticRegression\n",
    "from sklearn.metrics import roc_auc_score\n",
    "from sklearn.metrics import plot_roc_curve\n",
    "from sklearn.model_selection import train_test_split\n",
    "from sklearn.model_selection import cross_val_score"
   ]
  },
  {
   "cell_type": "markdown",
   "id": "9ec437d7",
   "metadata": {},
   "source": [
    "## Loading Data and splitting it into train, test and validation "
   ]
  },
  {
   "cell_type": "code",
   "execution_count": 9,
   "id": "6c481e04",
   "metadata": {},
   "outputs": [],
   "source": [
    "df = pd.read_csv(\"DNASU_HUMAN.csv\", sep=',', index_col=0)\n"
   ]
  },
  {
   "cell_type": "code",
   "execution_count": 10,
   "id": "2e54a20f",
   "metadata": {},
   "outputs": [],
   "source": [
    "def get_df_ML(df,features):\n",
    "    temp_df = df[features]\n",
    "    return temp_df"
   ]
  },
  {
   "cell_type": "code",
   "execution_count": 11,
   "id": "c22b6dcb",
   "metadata": {},
   "outputs": [],
   "source": [
    "# DNASU_features = ['Binary_Solubility','charge_at_7','Turn_NPGS_fraction','Cysteine_fraction','Proline_fraction','Gravy_Score','Total_Residues']\n",
    "# df_DNASU = get_df_ML(df,DNASU_features)\n",
    "# df_DNASU"
   ]
  },
  {
   "cell_type": "code",
   "execution_count": 12,
   "id": "211ac73c",
   "metadata": {},
   "outputs": [],
   "source": [
    "def get_normalised_df(df):\n",
    "    df_min_max_scaled = df.copy()\n",
    "\n",
    "    # apply normalization to all columns\n",
    "    for column in df_min_max_scaled:\n",
    "        if column != 'Binary_Solubility':\n",
    "            df_min_max_scaled[column] = (df_min_max_scaled[column] - df_min_max_scaled[column].min()) / (df_min_max_scaled[column].max() - df_min_max_scaled[column].min())    \n",
    "\n",
    "    return df_min_max_scaled"
   ]
  },
  {
   "cell_type": "code",
   "execution_count": 13,
   "id": "421e1bf8",
   "metadata": {},
   "outputs": [
    {
     "data": {
      "text/html": [
       "<div>\n",
       "<style scoped>\n",
       "    .dataframe tbody tr th:only-of-type {\n",
       "        vertical-align: middle;\n",
       "    }\n",
       "\n",
       "    .dataframe tbody tr th {\n",
       "        vertical-align: top;\n",
       "    }\n",
       "\n",
       "    .dataframe thead th {\n",
       "        text-align: right;\n",
       "    }\n",
       "</style>\n",
       "<table border=\"1\" class=\"dataframe\">\n",
       "  <thead>\n",
       "    <tr style=\"text-align: right;\">\n",
       "      <th></th>\n",
       "      <th>Binary_Solubility</th>\n",
       "      <th>Molecular_Weight</th>\n",
       "      <th>Aromaticity</th>\n",
       "      <th>Instability_index</th>\n",
       "      <th>Gravy_Score</th>\n",
       "      <th>Isoelectric_point</th>\n",
       "      <th>charge_at_7</th>\n",
       "      <th>Mean_flexibility</th>\n",
       "      <th>A</th>\n",
       "      <th>C</th>\n",
       "      <th>...</th>\n",
       "      <th>R</th>\n",
       "      <th>S</th>\n",
       "      <th>T</th>\n",
       "      <th>V</th>\n",
       "      <th>W</th>\n",
       "      <th>Y</th>\n",
       "      <th>Total_Residues</th>\n",
       "      <th>Proline_fraction</th>\n",
       "      <th>Cysteine_fraction</th>\n",
       "      <th>Turn_NPGS_fraction</th>\n",
       "    </tr>\n",
       "  </thead>\n",
       "  <tbody>\n",
       "    <tr>\n",
       "      <th>0</th>\n",
       "      <td>0</td>\n",
       "      <td>0.262589</td>\n",
       "      <td>0.561576</td>\n",
       "      <td>0.508327</td>\n",
       "      <td>0.839831</td>\n",
       "      <td>0.241971</td>\n",
       "      <td>0.404212</td>\n",
       "      <td>0.345188</td>\n",
       "      <td>0.144928</td>\n",
       "      <td>0.166667</td>\n",
       "      <td>...</td>\n",
       "      <td>0.10</td>\n",
       "      <td>0.343284</td>\n",
       "      <td>0.119403</td>\n",
       "      <td>0.240741</td>\n",
       "      <td>0.10</td>\n",
       "      <td>0.142857</td>\n",
       "      <td>0.265372</td>\n",
       "      <td>0.226261</td>\n",
       "      <td>0.212808</td>\n",
       "      <td>0.735658</td>\n",
       "    </tr>\n",
       "    <tr>\n",
       "      <th>1</th>\n",
       "      <td>1</td>\n",
       "      <td>0.186849</td>\n",
       "      <td>0.365385</td>\n",
       "      <td>0.477256</td>\n",
       "      <td>0.734094</td>\n",
       "      <td>0.635404</td>\n",
       "      <td>0.528534</td>\n",
       "      <td>0.344294</td>\n",
       "      <td>0.173913</td>\n",
       "      <td>0.111111</td>\n",
       "      <td>...</td>\n",
       "      <td>0.24</td>\n",
       "      <td>0.059701</td>\n",
       "      <td>0.134328</td>\n",
       "      <td>0.240741</td>\n",
       "      <td>0.10</td>\n",
       "      <td>0.085714</td>\n",
       "      <td>0.189320</td>\n",
       "      <td>0.331233</td>\n",
       "      <td>0.184615</td>\n",
       "      <td>0.510090</td>\n",
       "    </tr>\n",
       "    <tr>\n",
       "      <th>2</th>\n",
       "      <td>1</td>\n",
       "      <td>0.906724</td>\n",
       "      <td>0.418259</td>\n",
       "      <td>0.488758</td>\n",
       "      <td>0.662833</td>\n",
       "      <td>0.635867</td>\n",
       "      <td>0.645028</td>\n",
       "      <td>0.514705</td>\n",
       "      <td>0.739130</td>\n",
       "      <td>0.277778</td>\n",
       "      <td>...</td>\n",
       "      <td>0.72</td>\n",
       "      <td>0.388060</td>\n",
       "      <td>0.402985</td>\n",
       "      <td>0.407407</td>\n",
       "      <td>0.05</td>\n",
       "      <td>0.571429</td>\n",
       "      <td>0.885113</td>\n",
       "      <td>0.244939</td>\n",
       "      <td>0.122867</td>\n",
       "      <td>0.490806</td>\n",
       "    </tr>\n",
       "    <tr>\n",
       "      <th>3</th>\n",
       "      <td>0</td>\n",
       "      <td>0.308783</td>\n",
       "      <td>0.520435</td>\n",
       "      <td>0.415811</td>\n",
       "      <td>0.616257</td>\n",
       "      <td>0.252586</td>\n",
       "      <td>0.416201</td>\n",
       "      <td>0.497391</td>\n",
       "      <td>0.217391</td>\n",
       "      <td>0.055556</td>\n",
       "      <td>...</td>\n",
       "      <td>0.20</td>\n",
       "      <td>0.208955</td>\n",
       "      <td>0.283582</td>\n",
       "      <td>0.222222</td>\n",
       "      <td>0.25</td>\n",
       "      <td>0.314286</td>\n",
       "      <td>0.309061</td>\n",
       "      <td>0.324513</td>\n",
       "      <td>0.062609</td>\n",
       "      <td>0.600166</td>\n",
       "    </tr>\n",
       "    <tr>\n",
       "      <th>4</th>\n",
       "      <td>0</td>\n",
       "      <td>0.470235</td>\n",
       "      <td>0.606383</td>\n",
       "      <td>0.609706</td>\n",
       "      <td>0.705289</td>\n",
       "      <td>0.244708</td>\n",
       "      <td>0.394113</td>\n",
       "      <td>0.464282</td>\n",
       "      <td>0.202899</td>\n",
       "      <td>0.111111</td>\n",
       "      <td>...</td>\n",
       "      <td>0.18</td>\n",
       "      <td>0.552239</td>\n",
       "      <td>0.432836</td>\n",
       "      <td>0.425926</td>\n",
       "      <td>0.35</td>\n",
       "      <td>0.457143</td>\n",
       "      <td>0.469256</td>\n",
       "      <td>0.279216</td>\n",
       "      <td>0.087538</td>\n",
       "      <td>0.656426</td>\n",
       "    </tr>\n",
       "    <tr>\n",
       "      <th>...</th>\n",
       "      <td>...</td>\n",
       "      <td>...</td>\n",
       "      <td>...</td>\n",
       "      <td>...</td>\n",
       "      <td>...</td>\n",
       "      <td>...</td>\n",
       "      <td>...</td>\n",
       "      <td>...</td>\n",
       "      <td>...</td>\n",
       "      <td>...</td>\n",
       "      <td>...</td>\n",
       "      <td>...</td>\n",
       "      <td>...</td>\n",
       "      <td>...</td>\n",
       "      <td>...</td>\n",
       "      <td>...</td>\n",
       "      <td>...</td>\n",
       "      <td>...</td>\n",
       "      <td>...</td>\n",
       "      <td>...</td>\n",
       "      <td>...</td>\n",
       "    </tr>\n",
       "    <tr>\n",
       "      <th>2814</th>\n",
       "      <td>1</td>\n",
       "      <td>0.272082</td>\n",
       "      <td>0.538806</td>\n",
       "      <td>0.618015</td>\n",
       "      <td>0.671265</td>\n",
       "      <td>0.063676</td>\n",
       "      <td>0.237448</td>\n",
       "      <td>0.502241</td>\n",
       "      <td>0.144928</td>\n",
       "      <td>0.111111</td>\n",
       "      <td>...</td>\n",
       "      <td>0.12</td>\n",
       "      <td>0.119403</td>\n",
       "      <td>0.194030</td>\n",
       "      <td>0.203704</td>\n",
       "      <td>0.20</td>\n",
       "      <td>0.142857</td>\n",
       "      <td>0.262136</td>\n",
       "      <td>0.399897</td>\n",
       "      <td>0.143284</td>\n",
       "      <td>0.484907</td>\n",
       "    </tr>\n",
       "    <tr>\n",
       "      <th>2815</th>\n",
       "      <td>1</td>\n",
       "      <td>0.274285</td>\n",
       "      <td>0.645813</td>\n",
       "      <td>0.457092</td>\n",
       "      <td>0.729145</td>\n",
       "      <td>0.699824</td>\n",
       "      <td>0.557107</td>\n",
       "      <td>0.263998</td>\n",
       "      <td>0.275362</td>\n",
       "      <td>0.083333</td>\n",
       "      <td>...</td>\n",
       "      <td>0.38</td>\n",
       "      <td>0.149254</td>\n",
       "      <td>0.164179</td>\n",
       "      <td>0.092593</td>\n",
       "      <td>0.30</td>\n",
       "      <td>0.171429</td>\n",
       "      <td>0.265372</td>\n",
       "      <td>0.395957</td>\n",
       "      <td>0.106404</td>\n",
       "      <td>0.509510</td>\n",
       "    </tr>\n",
       "    <tr>\n",
       "      <th>2816</th>\n",
       "      <td>1</td>\n",
       "      <td>0.454357</td>\n",
       "      <td>0.664078</td>\n",
       "      <td>0.446579</td>\n",
       "      <td>0.741788</td>\n",
       "      <td>0.727497</td>\n",
       "      <td>0.634919</td>\n",
       "      <td>0.257495</td>\n",
       "      <td>0.420290</td>\n",
       "      <td>0.138889</td>\n",
       "      <td>...</td>\n",
       "      <td>0.60</td>\n",
       "      <td>0.194030</td>\n",
       "      <td>0.238806</td>\n",
       "      <td>0.240741</td>\n",
       "      <td>0.45</td>\n",
       "      <td>0.285714</td>\n",
       "      <td>0.436893</td>\n",
       "      <td>0.315869</td>\n",
       "      <td>0.116505</td>\n",
       "      <td>0.495995</td>\n",
       "    </tr>\n",
       "    <tr>\n",
       "      <th>2817</th>\n",
       "      <td>1</td>\n",
       "      <td>0.279211</td>\n",
       "      <td>0.436364</td>\n",
       "      <td>0.465539</td>\n",
       "      <td>0.658630</td>\n",
       "      <td>0.741895</td>\n",
       "      <td>0.546998</td>\n",
       "      <td>0.330100</td>\n",
       "      <td>0.304348</td>\n",
       "      <td>0.027778</td>\n",
       "      <td>...</td>\n",
       "      <td>0.42</td>\n",
       "      <td>0.179104</td>\n",
       "      <td>0.104478</td>\n",
       "      <td>0.277778</td>\n",
       "      <td>0.30</td>\n",
       "      <td>0.114286</td>\n",
       "      <td>0.275081</td>\n",
       "      <td>0.274707</td>\n",
       "      <td>0.034450</td>\n",
       "      <td>0.507274</td>\n",
       "    </tr>\n",
       "    <tr>\n",
       "      <th>2818</th>\n",
       "      <td>1</td>\n",
       "      <td>0.276244</td>\n",
       "      <td>0.548077</td>\n",
       "      <td>0.549549</td>\n",
       "      <td>0.794057</td>\n",
       "      <td>0.570248</td>\n",
       "      <td>0.507819</td>\n",
       "      <td>0.219720</td>\n",
       "      <td>0.231884</td>\n",
       "      <td>0.111111</td>\n",
       "      <td>...</td>\n",
       "      <td>0.46</td>\n",
       "      <td>0.194030</td>\n",
       "      <td>0.074627</td>\n",
       "      <td>0.222222</td>\n",
       "      <td>0.30</td>\n",
       "      <td>0.114286</td>\n",
       "      <td>0.273463</td>\n",
       "      <td>0.303631</td>\n",
       "      <td>0.138462</td>\n",
       "      <td>0.627803</td>\n",
       "    </tr>\n",
       "  </tbody>\n",
       "</table>\n",
       "<p>2819 rows × 32 columns</p>\n",
       "</div>"
      ],
      "text/plain": [
       "      Binary_Solubility  Molecular_Weight  Aromaticity  Instability_index  \\\n",
       "0                     0          0.262589     0.561576           0.508327   \n",
       "1                     1          0.186849     0.365385           0.477256   \n",
       "2                     1          0.906724     0.418259           0.488758   \n",
       "3                     0          0.308783     0.520435           0.415811   \n",
       "4                     0          0.470235     0.606383           0.609706   \n",
       "...                 ...               ...          ...                ...   \n",
       "2814                  1          0.272082     0.538806           0.618015   \n",
       "2815                  1          0.274285     0.645813           0.457092   \n",
       "2816                  1          0.454357     0.664078           0.446579   \n",
       "2817                  1          0.279211     0.436364           0.465539   \n",
       "2818                  1          0.276244     0.548077           0.549549   \n",
       "\n",
       "      Gravy_Score  Isoelectric_point  charge_at_7  Mean_flexibility         A  \\\n",
       "0        0.839831           0.241971     0.404212          0.345188  0.144928   \n",
       "1        0.734094           0.635404     0.528534          0.344294  0.173913   \n",
       "2        0.662833           0.635867     0.645028          0.514705  0.739130   \n",
       "3        0.616257           0.252586     0.416201          0.497391  0.217391   \n",
       "4        0.705289           0.244708     0.394113          0.464282  0.202899   \n",
       "...           ...                ...          ...               ...       ...   \n",
       "2814     0.671265           0.063676     0.237448          0.502241  0.144928   \n",
       "2815     0.729145           0.699824     0.557107          0.263998  0.275362   \n",
       "2816     0.741788           0.727497     0.634919          0.257495  0.420290   \n",
       "2817     0.658630           0.741895     0.546998          0.330100  0.304348   \n",
       "2818     0.794057           0.570248     0.507819          0.219720  0.231884   \n",
       "\n",
       "             C  ...     R         S         T         V     W         Y  \\\n",
       "0     0.166667  ...  0.10  0.343284  0.119403  0.240741  0.10  0.142857   \n",
       "1     0.111111  ...  0.24  0.059701  0.134328  0.240741  0.10  0.085714   \n",
       "2     0.277778  ...  0.72  0.388060  0.402985  0.407407  0.05  0.571429   \n",
       "3     0.055556  ...  0.20  0.208955  0.283582  0.222222  0.25  0.314286   \n",
       "4     0.111111  ...  0.18  0.552239  0.432836  0.425926  0.35  0.457143   \n",
       "...        ...  ...   ...       ...       ...       ...   ...       ...   \n",
       "2814  0.111111  ...  0.12  0.119403  0.194030  0.203704  0.20  0.142857   \n",
       "2815  0.083333  ...  0.38  0.149254  0.164179  0.092593  0.30  0.171429   \n",
       "2816  0.138889  ...  0.60  0.194030  0.238806  0.240741  0.45  0.285714   \n",
       "2817  0.027778  ...  0.42  0.179104  0.104478  0.277778  0.30  0.114286   \n",
       "2818  0.111111  ...  0.46  0.194030  0.074627  0.222222  0.30  0.114286   \n",
       "\n",
       "      Total_Residues  Proline_fraction  Cysteine_fraction  Turn_NPGS_fraction  \n",
       "0           0.265372          0.226261           0.212808            0.735658  \n",
       "1           0.189320          0.331233           0.184615            0.510090  \n",
       "2           0.885113          0.244939           0.122867            0.490806  \n",
       "3           0.309061          0.324513           0.062609            0.600166  \n",
       "4           0.469256          0.279216           0.087538            0.656426  \n",
       "...              ...               ...                ...                 ...  \n",
       "2814        0.262136          0.399897           0.143284            0.484907  \n",
       "2815        0.265372          0.395957           0.106404            0.509510  \n",
       "2816        0.436893          0.315869           0.116505            0.495995  \n",
       "2817        0.275081          0.274707           0.034450            0.507274  \n",
       "2818        0.273463          0.303631           0.138462            0.627803  \n",
       "\n",
       "[2819 rows x 32 columns]"
      ]
     },
     "execution_count": 13,
     "metadata": {},
     "output_type": "execute_result"
    }
   ],
   "source": [
    "# Final_DNASU_ML = get_normalised_df(df_DNASU)#TRAINING DATASET\n",
    "# Final_DNASU_ML\n",
    "df = df.select_dtypes(['number'])\n",
    "Final_DNASU_ML = get_normalised_df(df)#TRAINING DATASET\n",
    "\n",
    "Final_DNASU_ML.isnull().sum()\n",
    "Final_DNASU_ML = Final_DNASU_ML.drop([\"HUMAN\"], axis = 1)\n",
    "Final_DNASU_ML\n"
   ]
  },
  {
   "cell_type": "code",
   "execution_count": 14,
   "id": "cfb99a35",
   "metadata": {},
   "outputs": [
    {
     "name": "stdout",
     "output_type": "stream",
     "text": [
      "2255 282 282\n"
     ]
    }
   ],
   "source": [
    "df_train, df_test_val = train_test_split(Final_DNASU_ML, test_size=0.2)\n",
    "df_test, df_val = train_test_split(df_test_val, test_size=0.5)\n",
    "df_train =df_train.reset_index(drop=True)\n",
    "df_test = df_test.reset_index(drop=True)\n",
    "df_val = df_val.reset_index(drop=True)\n",
    "print(len(df_train), len(df_test), len(df_val))"
   ]
  },
  {
   "cell_type": "code",
   "execution_count": 15,
   "id": "4e3cbd41",
   "metadata": {},
   "outputs": [
    {
     "name": "stdout",
     "output_type": "stream",
     "text": [
      "Training Features Shape: (2255, 31)\n",
      "Training Labels Shape: (2255,)\n",
      "Testing Features Shape: (282, 31)\n",
      "Testing Labels Shape: (282,)\n",
      "Cleaned testing Features Shape: (282, 31)\n",
      "Cleaned testing Labels Shape: (282,)\n"
     ]
    }
   ],
   "source": [
    "#Labels are the values to be predicted, in this case the solubility\n",
    "Train_labels = np.array(df_train['Binary_Solubility'])\n",
    "\n",
    "# Remove the labels from the features\n",
    "Train_features= df_train.drop('Binary_Solubility', axis = 1)\n",
    "\n",
    "# Saving feature names for later use\n",
    "Train_feature_list = list(Train_features.columns)\n",
    "\n",
    "# Convert to numpy array\n",
    "Train_features = np.array(Train_features)\n",
    "\n",
    "\n",
    "#Same thing for test set\n",
    "Test_labels = np.array(df_test['Binary_Solubility'])\n",
    "Test_features = df_test.drop('Binary_Solubility', axis = 1)\n",
    "Test_feature_list = list(Test_features.columns)\n",
    "Test_features = np.array(Test_features)\n",
    "\n",
    "#And the cleaned test set\n",
    "Test_labels2 = np.array(df_val['Binary_Solubility'])\n",
    "Test_features2 = df_val.drop('Binary_Solubility', axis = 1)\n",
    "Test_feature_list2 = list(Test_features2.columns)\n",
    "Test_features2 = np.array(Test_features2)\n",
    "\n",
    "#Check shape of train and test\n",
    "print('Training Features Shape:', Train_features.shape)\n",
    "print('Training Labels Shape:', Train_labels.shape)\n",
    "print('Testing Features Shape:', Test_features.shape)\n",
    "print('Testing Labels Shape:', Test_labels.shape)\n",
    "print('Cleaned testing Features Shape:', Test_features2.shape)\n",
    "print('Cleaned testing Labels Shape:', Test_labels2.shape)\n"
   ]
  },
  {
   "cell_type": "markdown",
   "id": "b08a8671",
   "metadata": {},
   "source": [
    "## Training the Model and predicting solubility"
   ]
  },
  {
   "cell_type": "code",
   "execution_count": 16,
   "id": "2472e57f",
   "metadata": {},
   "outputs": [
    {
     "data": {
      "text/plain": [
       "LogisticRegression()"
      ]
     },
     "execution_count": 16,
     "metadata": {},
     "output_type": "execute_result"
    }
   ],
   "source": [
    "#Support vector\n",
    "svc = SVC(random_state=42)\n",
    "svc.fit(Train_features, Train_labels)\n",
    "\n",
    "#random forest\n",
    "rf = RandomForestClassifier(n_estimators = 100, bootstrap = True, max_features = 'sqrt')\n",
    "rf.fit(Train_features, Train_labels)\n",
    "\n",
    "#Logistic regression\n",
    "lr = LogisticRegression()\n",
    "lr.fit(Train_features, Train_labels)"
   ]
  },
  {
   "cell_type": "code",
   "execution_count": 17,
   "id": "fc9e54ab",
   "metadata": {},
   "outputs": [],
   "source": [
    "# Use the forest's predict method on the test data\n",
    "rf_predictions = rf.predict(Test_features)\n",
    "\n",
    "# Probabilities for each class\n",
    "rf_probs = rf.predict_proba(Test_features)[:, 1]\n",
    "\n",
    "#same for cleaned test set\n",
    "rf_predictions2 = rf.predict(Test_features2)\n",
    "rf_probs2 = rf.predict_proba(Test_features2)[:, 1]"
   ]
  },
  {
   "cell_type": "code",
   "execution_count": 18,
   "id": "e5c587f4",
   "metadata": {},
   "outputs": [
    {
     "name": "stdout",
     "output_type": "stream",
     "text": [
      "AUC: 0.8439018218623482\n",
      "AUC: 0.8426267630554573\n"
     ]
    }
   ],
   "source": [
    "# Calculate roc auc \n",
    "roc_value = roc_auc_score(Test_labels, rf_probs)\n",
    "print('AUC:', roc_value)\n",
    "\n",
    "#same for cleaned\n",
    "roc_value = roc_auc_score(Test_labels2, rf_probs2)\n",
    "print('AUC:', roc_value)"
   ]
  },
  {
   "cell_type": "code",
   "execution_count": 19,
   "id": "5e10fa51",
   "metadata": {},
   "outputs": [],
   "source": [
    "def get_AUC(model, x_train, x_test, y_train, y_test):\n",
    "    rf = model.fit(x_train, y_train)\n",
    "    rf_predictions = rf.predict(x_test)\n",
    "    rf_probs = rf.predict_proba(x_test)[:, 1]\n",
    "    roc_value = roc_auc_score(y_test, rf_probs)\n",
    "    return roc_value"
   ]
  },
  {
   "cell_type": "code",
   "execution_count": 20,
   "id": "9febbdea",
   "metadata": {},
   "outputs": [
    {
     "data": {
      "text/html": [
       "<div>\n",
       "<style scoped>\n",
       "    .dataframe tbody tr th:only-of-type {\n",
       "        vertical-align: middle;\n",
       "    }\n",
       "\n",
       "    .dataframe tbody tr th {\n",
       "        vertical-align: top;\n",
       "    }\n",
       "\n",
       "    .dataframe thead th {\n",
       "        text-align: right;\n",
       "    }\n",
       "</style>\n",
       "<table border=\"1\" class=\"dataframe\">\n",
       "  <thead>\n",
       "    <tr style=\"text-align: right;\">\n",
       "      <th></th>\n",
       "      <th>feature</th>\n",
       "      <th>importance</th>\n",
       "    </tr>\n",
       "  </thead>\n",
       "  <tbody>\n",
       "    <tr>\n",
       "      <th>3</th>\n",
       "      <td>Gravy_Score</td>\n",
       "      <td>0.077731</td>\n",
       "    </tr>\n",
       "    <tr>\n",
       "      <th>6</th>\n",
       "      <td>Mean_flexibility</td>\n",
       "      <td>0.074403</td>\n",
       "    </tr>\n",
       "    <tr>\n",
       "      <th>16</th>\n",
       "      <td>L</td>\n",
       "      <td>0.044484</td>\n",
       "    </tr>\n",
       "    <tr>\n",
       "      <th>4</th>\n",
       "      <td>Isoelectric_point</td>\n",
       "      <td>0.042405</td>\n",
       "    </tr>\n",
       "    <tr>\n",
       "      <th>1</th>\n",
       "      <td>Aromaticity</td>\n",
       "      <td>0.041314</td>\n",
       "    </tr>\n",
       "    <tr>\n",
       "      <th>29</th>\n",
       "      <td>Cysteine_fraction</td>\n",
       "      <td>0.038106</td>\n",
       "    </tr>\n",
       "    <tr>\n",
       "      <th>5</th>\n",
       "      <td>charge_at_7</td>\n",
       "      <td>0.037414</td>\n",
       "    </tr>\n",
       "    <tr>\n",
       "      <th>2</th>\n",
       "      <td>Instability_index</td>\n",
       "      <td>0.035978</td>\n",
       "    </tr>\n",
       "    <tr>\n",
       "      <th>22</th>\n",
       "      <td>S</td>\n",
       "      <td>0.034963</td>\n",
       "    </tr>\n",
       "    <tr>\n",
       "      <th>27</th>\n",
       "      <td>Total_Residues</td>\n",
       "      <td>0.034687</td>\n",
       "    </tr>\n",
       "  </tbody>\n",
       "</table>\n",
       "</div>"
      ],
      "text/plain": [
       "              feature  importance\n",
       "3         Gravy_Score    0.077731\n",
       "6    Mean_flexibility    0.074403\n",
       "16                  L    0.044484\n",
       "4   Isoelectric_point    0.042405\n",
       "1         Aromaticity    0.041314\n",
       "29  Cysteine_fraction    0.038106\n",
       "5         charge_at_7    0.037414\n",
       "2   Instability_index    0.035978\n",
       "22                  S    0.034963\n",
       "27     Total_Residues    0.034687"
      ]
     },
     "execution_count": 20,
     "metadata": {},
     "output_type": "execute_result"
    }
   ],
   "source": [
    "# Extract feature importances\n",
    "fi = pd.DataFrame({'feature': (Train_feature_list),\n",
    "                   'importance': rf.feature_importances_}).\\\n",
    "                    sort_values('importance', ascending = False)\n",
    "\n",
    "# Display\n",
    "fi[:10]"
   ]
  },
  {
   "cell_type": "markdown",
   "id": "451da3bc",
   "metadata": {},
   "source": [
    "## Making plots of the results "
   ]
  },
  {
   "cell_type": "code",
   "execution_count": 21,
   "id": "9fad55f8",
   "metadata": {},
   "outputs": [
    {
     "data": {
      "image/png": "[encoded data removed]",
      "text/plain": [
       "<Figure size 432x288 with 1 Axes>"
      ]
     },
     "metadata": {
      "needs_background": "light"
     },
     "output_type": "display_data"
    }
   ],
   "source": [
    "sns.set_palette(\"rocket\")\n",
    "ax = plt.gca()\n",
    "svc_disp2 = plot_roc_curve(svc, Test_features2, Test_labels2,name='Support Vector validate', ax=ax, alpha=0.8)\n",
    "ax.plot([0, 1], [0, 1],linestyle='--', transform=ax.transAxes)\n",
    "plt.show()"
   ]
  },
  {
   "cell_type": "code",
   "execution_count": 22,
   "id": "fc78b257",
   "metadata": {
    "scrolled": true
   },
   "outputs": [
    {
     "data": {
      "image/png": "[encoded data removed]",
      "text/plain": [
       "<Figure size 432x288 with 1 Axes>"
      ]
     },
     "metadata": {
      "needs_background": "light"
     },
     "output_type": "display_data"
    }
   ],
   "source": [
    "ax = plt.gca()\n",
    "rf_disp2 = plot_roc_curve(rf, Test_features2, Test_labels2,name='Random Forest validate', ax=ax, alpha=0.8)\n",
    "ax.plot([0, 1], [0, 1],linestyle='--', transform=ax.transAxes)\n",
    "plt.show()"
   ]
  },
  {
   "cell_type": "code",
   "execution_count": 23,
   "id": "a58b8e1e",
   "metadata": {},
   "outputs": [
    {
     "data": {
      "image/png": "[encoded data removed]",
      "text/plain": [
       "<Figure size 432x288 with 1 Axes>"
      ]
     },
     "metadata": {
      "needs_background": "light"
     },
     "output_type": "display_data"
    }
   ],
   "source": [
    "ax = plt.gca()\n",
    "svc_disp2 = plot_roc_curve(lr, Test_features2, Test_labels2,name='Logistic Regression validate', ax=ax, alpha=0.8)\n",
    "ax.plot([0, 1], [0, 1],linestyle='--', transform=ax.transAxes)\n",
    "plt.show()"
   ]
  },
  {
   "cell_type": "code",
   "execution_count": 24,
   "id": "8e669a17",
   "metadata": {},
   "outputs": [
    {
     "data": {
      "image/png": "[encoded data removed]",
      "text/plain": [
       "<Figure size 432x288 with 1 Axes>"
      ]
     },
     "metadata": {
      "needs_background": "light"
     },
     "output_type": "display_data"
    }
   ],
   "source": [
    "ax = plt.gca()\n",
    "ax.plot([0, 1], [0, 1],linestyle='--', transform=ax.transAxes)\n",
    "rf_disp = plot_roc_curve(rf, Test_features2, Test_labels2,name='Random Forest validate', ax=ax, alpha=0.8)\n",
    "lr_disp = plot_roc_curve(lr, Test_features2, Test_labels2,name='Logistic Regression validate', ax=ax, alpha=0.8)\n",
    "svc_disp = plot_roc_curve(svc, Test_features2, Test_labels2,name='Support Vector validate', ax=ax, alpha=0.8)\n",
    "plt.title('ROC-curves ML-Models 6 features')\n",
    "plt.show()"
   ]
  },
  {
   "cell_type": "markdown",
   "id": "7ca658eb",
   "metadata": {},
   "source": [
    "## Stratified 10- fold cross validation: AUC"
   ]
  },
  {
   "cell_type": "code",
   "execution_count": 25,
   "id": "a2e1a35c",
   "metadata": {},
   "outputs": [],
   "source": [
    "from sklearn.model_selection import train_test_split\n",
    "SOLtarget = np.array(df_train['Binary_Solubility'])\n",
    "SOLdata = np.array(Train_features)"
   ]
  },
  {
   "cell_type": "code",
   "execution_count": 26,
   "id": "c7913e74",
   "metadata": {},
   "outputs": [],
   "source": [
    "def get_score(model, x_train, x_test, y_train, y_test):\n",
    "    model.fit(x_train, y_train)\n",
    "    return model.score(x_test, y_test)\n",
    "    "
   ]
  },
  {
   "cell_type": "code",
   "execution_count": 27,
   "id": "7fb38c9c",
   "metadata": {},
   "outputs": [],
   "source": [
    "from sklearn.model_selection import StratifiedKFold\n",
    "kf = StratifiedKFold(n_splits = 10)"
   ]
  },
  {
   "cell_type": "code",
   "execution_count": 28,
   "id": "3b3edec9",
   "metadata": {},
   "outputs": [
    {
     "name": "stdout",
     "output_type": "stream",
     "text": [
      "Mean AUC score:\n",
      "0.7594003004128825\n"
     ]
    }
   ],
   "source": [
    "AUC_rf = []\n",
    "for train_index,test_index in kf.split(SOLdata, SOLtarget):\n",
    "    x_train, x_test, y_train, y_test = SOLdata[train_index], SOLdata[test_index], \\\n",
    "                                        SOLtarget[train_index], SOLtarget[test_index]\n",
    "    model = LogisticRegression()\n",
    "    AUC_rf.append(get_AUC(model, x_train, x_test, y_train, y_test))\n",
    "print(\"Mean AUC score:\")\n",
    "print(np.mean(AUC_rf))"
   ]
  },
  {
   "cell_type": "markdown",
   "id": "00e3f926",
   "metadata": {},
   "source": [
    "## 10 fold cross validation: score"
   ]
  },
  {
   "cell_type": "code",
   "execution_count": 29,
   "id": "34928a37",
   "metadata": {},
   "outputs": [
    {
     "name": "stdout",
     "output_type": "stream",
     "text": [
      "0.7594003004128825\n",
      "0.7783814805237912\n",
      "0.8349127381952604\n"
     ]
    }
   ],
   "source": [
    "print(np.mean(cross_val_score(LogisticRegression(),SOLdata,SOLtarget,scoring= 'roc_auc',cv=10)))\n",
    "print(np.mean(cross_val_score(SVC(),SOLdata,SOLtarget,scoring= 'roc_auc',cv=10)))\n",
    "print(np.mean(cross_val_score(RandomForestClassifier(n_estimators = 100),SOLdata,SOLtarget,scoring= 'roc_auc',cv=10)))"
   ]
  },
  {
   "cell_type": "code",
   "execution_count": 30,
   "id": "84e2e637",
   "metadata": {},
   "outputs": [],
   "source": [
    "d = {'Model': ['Logistic Regression', \n",
    "                   'Support Vector', 'Random Forest'],\n",
    "        'AUC':[0.7569997066969624, 0.7796824190198975, 0.835677095631641]}\n",
    "df = pd.DataFrame(data=d)"
   ]
  },
  {
   "cell_type": "code",
   "execution_count": 31,
   "id": "2508c4d2",
   "metadata": {},
   "outputs": [
    {
     "data": {
      "image/png": "[encoded data removed]",
      "text/plain": [
       "<Figure size 720x360 with 1 Axes>"
      ]
     },
     "metadata": {},
     "output_type": "display_data"
    }
   ],
   "source": [
    "sns.set(style=(\"ticks\"), font_scale=1.5)\n",
    "sns.set_palette(\"rocket\")\n",
    "fig = plt.figure(figsize=(10, 5))\n",
    "ax = sns.barplot(x=\"AUC\", y=\"Model\", data=df, ).set_title('Mean 10-fold cross-validation score 6 features')"
   ]
  },
  {
   "cell_type": "code",
   "execution_count": null,
   "id": "ed29d34d",
   "metadata": {},
   "outputs": [],
   "source": []
  }
 ],
 "metadata": {
  "kernelspec": {
   "display_name": "Python 3 (ipykernel)",
   "language": "python",
   "name": "python3"
  },
  "language_info": {
   "codemirror_mode": {
    "name": "ipython",
    "version": 3
   },
   "file_extension": ".py",
   "mimetype": "text/x-python",
   "name": "python",
   "nbconvert_exporter": "python",
   "pygments_lexer": "ipython3",
   "version": "3.9.7"
  }
 },
 "nbformat": 4,
 "nbformat_minor": 5
}
