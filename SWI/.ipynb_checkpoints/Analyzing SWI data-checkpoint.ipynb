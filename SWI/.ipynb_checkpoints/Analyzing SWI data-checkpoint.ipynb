{
 "cells": [
  {
   "cell_type": "markdown",
   "id": "8a810a21",
   "metadata": {},
   "source": [
    "In this script we will mapp de obtained UniprotID's from BLAST to the sequence and analyse the organisms these proteins come from"
   ]
  },
  {
   "cell_type": "markdown",
   "id": "8aed6eb7",
   "metadata": {},
   "source": [
    "## Loading packages"
   ]
  },
  {
   "cell_type": "code",
   "execution_count": 1,
   "id": "dbd9952b",
   "metadata": {},
   "outputs": [],
   "source": [
    "import numpy as np\n",
    "import pandas as pd\n",
    "import matplotlib.pyplot as plt\n",
    "import itertools\n",
    "import math\n",
    "import seaborn as sns\n",
    "import numdifftools as nd\n",
    "import statsmodels.api as sm\n",
    "import warnings\n",
    "warnings.filterwarnings('ignore')\n",
    "from collections import Counter"
   ]
  },
  {
   "cell_type": "markdown",
   "id": "7a4c9342",
   "metadata": {},
   "source": [
    "## Loading dataset"
   ]
  },
  {
   "cell_type": "code",
   "execution_count": 2,
   "id": "3d150008",
   "metadata": {},
   "outputs": [],
   "source": [
    "DNASUSeq = pd.read_csv(\"results_DNASUSeq.csv\", sep=',',header=None )\n",
    "eSolSeq = pd.read_csv(\"results_eSolSeq.csv\", sep=',', header=None)\n",
    "eSolCleanSeq = pd.read_csv(\"results_eSolCleanSeq.csv\", sep=',',header=None)"
   ]
  },
  {
   "cell_type": "code",
   "execution_count": 3,
   "id": "8cea723a",
   "metadata": {},
   "outputs": [],
   "source": [
    "def get_df_ML(df,features):\n",
    "    temp_df = df[features]\n",
    "    return temp_df"
   ]
  },
  {
   "cell_type": "code",
   "execution_count": 4,
   "id": "78617d39",
   "metadata": {},
   "outputs": [],
   "source": [
    "DNASU_SWI_ML = 'DNASU_SWI_ML.csv' #Load datasets\n",
    "eSOL_SWI_ML = 'eSOL_SWI_ML.csv'\n",
    "eSOL_SWI_ML_cleaned = 'eSOL_SWI_ML_cleaned.csv'\n",
    "DNASU_SWI_ML = pd.read_csv(DNASU_SWI_ML, sep=',', engine='python') #read and convert to a dataframe\n",
    "eSOL_SWI_ML = pd.read_csv(eSOL_SWI_ML, sep=',', engine='python') # read and convert to a dataframe\n",
    "eSOL_SWI_ML_cleaned = pd.read_csv(eSOL_SWI_ML_cleaned, sep=',', engine='python') # read and convert to a dataframe\n",
    "eSOL_SWI_ML_cleaned\n",
    "\n",
    "DNASU_features = ['Binary_Solubility','charge_at_7','Turn_NPGS_fraction','Cysteine_fraction','Proline_fraction','Gravy_Score','Total_Residues']\n",
    "df_DNASU = get_df_ML(DNASU_SWI_ML,DNASU_features)\n",
    "\n",
    "eSOL_features = ['Binary_Solubility','charge_at_7','Turn_NPGS_fraction','Cysteine_fraction','Proline_fraction','Gravy_Score','Total_Residues']\n",
    "df_eSOL = get_df_ML(eSOL_SWI_ML,eSOL_features)\n",
    "df_eSOL_cleaned = get_df_ML(eSOL_SWI_ML_cleaned,eSOL_features)\n"
   ]
  },
  {
   "cell_type": "markdown",
   "id": "a548f1f8",
   "metadata": {},
   "source": [
    "## Mapping UniprotID's to Sequences and making new column containing organisms"
   ]
  },
  {
   "cell_type": "code",
   "execution_count": 5,
   "id": "023752ee",
   "metadata": {},
   "outputs": [],
   "source": [
    "DNASU_SWI_ML[\"UniprotID\"]=\"\"\n",
    "DNASU_SWI_ML[\"Organism\"]=\"\"\n",
    "organisms_DNASU=[]\n",
    "uniprot=[]\n",
    "for i in range(len(DNASUSeq)):\n",
    "    row = int(DNASUSeq[0][i].split(\"seq\")[1])\n",
    "    UniId= DNASUSeq[1][i].split(\"|\")[1]\n",
    "    organisms_DNASU.append((row,DNASUSeq[1][i].split(\"_\")[1]))\n",
    "    uniprot.append((row,UniId))\n",
    "        \n",
    "for i in range(len(DNASUSeq)):\n",
    "    DNASU_SWI_ML[\"UniprotID\"][uniprot[i][0]] = uniprot[i][1]\n",
    "    DNASU_SWI_ML[\"Organism\"][organisms_DNASU[i][0]] = organisms_DNASU[i][1]\n",
    "\n",
    "eSOL_SWI_ML[\"UniprotID\"]=\"\"\n",
    "eSOL_SWI_ML[\"Organism\"] = \"\"\n",
    "organisms_eSol=[]\n",
    "for i in range(len(eSolSeq)):\n",
    "    eSOL_SWI_ML[\"UniprotID\"][i]=eSolSeq[1][i].split(\"|\")[1]\n",
    "    eSOL_SWI_ML[\"Organism\"][i]=eSolSeq[1][i].split(\"_\")[1]\n",
    "    organisms_eSol.append(eSolSeq[1][i].split(\"_\")[1])\n",
    "\n",
    "eSOL_SWI_ML_cleaned[\"UniprotID\"]=\"\"\n",
    "eSOL_SWI_ML_cleaned[\"Organism\"] = \"\"\n",
    "organisms_eSolClean=[]\n",
    "for i in range(len(eSolCleanSeq)):\n",
    "    eSOL_SWI_ML_cleaned[\"UniprotID\"][i]=eSolCleanSeq[1][i].split(\"|\")[1]\n",
    "    eSOL_SWI_ML_cleaned[\"Organism\"][i]=eSolCleanSeq[1][i].split(\"_\")[1]\n",
    "    organisms_eSolClean.append(eSolCleanSeq[1][i].split(\"_\")[1])\n",
    "\n"
   ]
  },
  {
   "cell_type": "code",
   "execution_count": 6,
   "id": "f7eef1ee",
   "metadata": {},
   "outputs": [
    {
     "data": {
      "text/plain": [
       "Index(['Sequence', 'Binary_Solubility', 'id', 'Amino_acid_counts',\n",
       "       'Molecular_Weight', 'Flexibility', 'Aromaticity', 'Instability_index',\n",
       "       'Gravy_Score', 'Isoelectric_point', 'charge_at_7', 'Dataset_label',\n",
       "       'Mean_flexibility', 'A', 'C', 'D', 'E', 'F', 'G', 'H', 'I', 'K', 'L',\n",
       "       'M', 'N', 'P', 'Q', 'R', 'S', 'T', 'V', 'W', 'Y', 'Total_Residues',\n",
       "       'Proline_fraction', 'Cysteine_fraction', 'Turn_NPGS_fraction',\n",
       "       'UniprotID', 'Organism', 'HUMAN'],\n",
       "      dtype='object')"
      ]
     },
     "execution_count": 6,
     "metadata": {},
     "output_type": "execute_result"
    }
   ],
   "source": [
    "DNASU_SWI_ML[\"HUMAN\"]  = pd.Series(np.where(DNASU_SWI_ML.Organism == 'HUMAN', 1, 0),DNASU_SWI_ML.index)\n",
    "DNASU_SWI_ML[\"HUMAN\"].sum()\n",
    "df_DNASU_HUMAN = DNASU_SWI_ML.loc[DNASU_SWI_ML[\"HUMAN\"] == 1].reset_index().drop([\"Unnamed: 0\",\"index\"], axis=1)\n",
    "df_DNASU_HUMAN.to_csv('DNASU_HUMAN.csv')  \n",
    "df_DNASU_HUMAN.columns\n"
   ]
  },
  {
   "cell_type": "markdown",
   "id": "159d4907",
   "metadata": {},
   "source": [
    "## Plotting organisms found in datasets"
   ]
  },
  {
   "cell_type": "code",
   "execution_count": 7,
   "id": "10d996b9",
   "metadata": {},
   "outputs": [
    {
     "data": {
      "text/plain": [
       "Text(0.5, 1.0, 'DNASU (train)')"
      ]
     },
     "execution_count": 7,
     "metadata": {},
     "output_type": "execute_result"
    },
    {
     "data": {
      "image/png": "[encoded data removed]",
      "text/plain": [
       "<Figure size 432x288 with 1 Axes>"
      ]
     },
     "metadata": {
      "needs_background": "light"
     },
     "output_type": "display_data"
    }
   ],
   "source": [
    "myDictionary=Counter(organisms_DNASU)\n",
    "test=pd.value_counts(np.array(DNASU_SWI_ML[\"Organism\"]))\n",
    "d = dict((k, v) for k, v in test.items() if v >= 70)\n",
    "others = myDictionary.copy()\n",
    "for k in d.keys():\n",
    "    others.pop(k, None)\n",
    "new_key_values_dict = {'Others':sum(others.values()) }\n",
    "d.update(new_key_values_dict)\n",
    "plt.bar(list(d.keys()), d.values(), color='plum')\n",
    "plt.xticks(rotation=45)\n",
    "plt.title(\"DNASU (train)\")"
   ]
  },
  {
   "cell_type": "code",
   "execution_count": 8,
   "id": "573c3a9c",
   "metadata": {},
   "outputs": [
    {
     "data": {
      "text/plain": [
       "Text(0.5, 1.0, 'eSOL (test)')"
      ]
     },
     "execution_count": 8,
     "metadata": {},
     "output_type": "execute_result"
    },
    {
     "data": {
      "image/png": "[encoded data removed]",
      "text/plain": [
       "<Figure size 432x288 with 1 Axes>"
      ]
     },
     "metadata": {
      "needs_background": "light"
     },
     "output_type": "display_data"
    }
   ],
   "source": [
    "myDictionary=Counter(organisms_eSol)\n",
    "d = dict((k, v) for k, v in myDictionary.items() if v >= 10)\n",
    "others = myDictionary\n",
    "for k in d.keys():\n",
    "    others.pop(k, None)\n",
    "new_key_values_dict = {'Others':sum(others.values()) }\n",
    "d.update(new_key_values_dict)\n",
    "plt.bar(list(d.keys()), d.values(), color='plum')\n",
    "plt.xticks(rotation=45)\n",
    "plt.title(\"eSOL (test)\")"
   ]
  },
  {
   "cell_type": "code",
   "execution_count": 9,
   "id": "5a8a7436",
   "metadata": {},
   "outputs": [
    {
     "data": {
      "text/plain": [
       "Text(0.5, 1.0, 'eSOL_cleaned (validate)')"
      ]
     },
     "execution_count": 9,
     "metadata": {},
     "output_type": "execute_result"
    },
    {
     "data": {
      "image/png": "[encoded data removed]",
      "text/plain": [
       "<Figure size 432x288 with 1 Axes>"
      ]
     },
     "metadata": {
      "needs_background": "light"
     },
     "output_type": "display_data"
    }
   ],
   "source": [
    "myDictionary=Counter(organisms_eSolClean)\n",
    "d = dict((k, v) for k, v in myDictionary.items() if v >= 10)\n",
    "others = myDictionary\n",
    "for k in d.keys():\n",
    "    others.pop(k, None)\n",
    "new_key_values_dict = {'Others':sum(others.values()) }\n",
    "d.update(new_key_values_dict)\n",
    "plt.bar(list(d.keys()), d.values(), color='plum')\n",
    "plt.xticks(rotation=45)\n",
    "plt.title(\"eSOL_cleaned (validate)\")"
   ]
  }
 ],
 "metadata": {
  "kernelspec": {
   "display_name": "Python 3 (ipykernel)",
   "language": "python",
   "name": "python3"
  },
  "language_info": {
   "codemirror_mode": {
    "name": "ipython",
    "version": 3
   },
   "file_extension": ".py",
   "mimetype": "text/x-python",
   "name": "python",
   "nbconvert_exporter": "python",
   "pygments_lexer": "ipython3",
   "version": "3.9.7"
  }
 },
 "nbformat": 4,
 "nbformat_minor": 5
}
