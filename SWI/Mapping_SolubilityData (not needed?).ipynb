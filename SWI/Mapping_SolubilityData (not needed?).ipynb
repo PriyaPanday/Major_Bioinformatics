{
 "cells": [
  {
   "cell_type": "markdown",
   "id": "3b8e1d42",
   "metadata": {},
   "source": [
    "In this script we will map the SWI sequence data to the obtained Uniprot ID's from BLAST"
   ]
  },
  {
   "cell_type": "markdown",
   "id": "08293437",
   "metadata": {},
   "source": [
    "## Loading packages"
   ]
  },
  {
   "cell_type": "code",
   "execution_count": 1,
   "id": "1a73cfa8",
   "metadata": {},
   "outputs": [],
   "source": [
    "import pandas as pd\n",
    "import matplotlib.pyplot as plt\n",
    "import seaborn as sns\n",
    "import sys\n",
    "import numpy as np\n"
   ]
  },
  {
   "cell_type": "markdown",
   "id": "19371bc9",
   "metadata": {},
   "source": [
    "## Loading datat"
   ]
  },
  {
   "cell_type": "code",
   "execution_count": 2,
   "id": "c0ca9367",
   "metadata": {},
   "outputs": [],
   "source": [
    "def get_df_ML(df,features):\n",
    "    temp_df = df[features]\n",
    "    return temp_df"
   ]
  },
  {
   "cell_type": "code",
   "execution_count": 4,
   "id": "82be0b59",
   "metadata": {},
   "outputs": [
    {
     "name": "stdout",
     "output_type": "stream",
     "text": [
      "12216 3198 2237\n",
      "17651\n"
     ]
    }
   ],
   "source": [
    "DNASU_SWI_ML = 'DNASU_SWI_ML.csv' #Load datasets\n",
    "eSOL_SWI_ML = 'eSOL_SWI_ML.csv'\n",
    "eSOL_SWI_ML_cleaned = 'eSOL_SWI_ML_cleaned.csv'\n",
    "DNASU_SWI_ML = pd.read_csv(DNASU_SWI_ML, sep=',', engine='python') #read and convert to a dataframe\n",
    "eSOL_SWI_ML = pd.read_csv(eSOL_SWI_ML, sep=',', engine='python') # read and convert to a dataframe\n",
    "eSOL_SWI_ML_cleaned = pd.read_csv(eSOL_SWI_ML_cleaned, sep=',', engine='python') # read and convert to a dataframe\n",
    "eSOL_SWI_ML_cleaned\n",
    "\n",
    "DNASU_features = ['Binary_Solubility','charge_at_7','Turn_NPGS_fraction','Cysteine_fraction','Proline_fraction','Gravy_Score','Total_Residues']\n",
    "df_DNASU = get_df_ML(DNASU_SWI_ML,DNASU_features)\n",
    "\n",
    "eSOL_features = ['Binary_Solubility','charge_at_7','Turn_NPGS_fraction','Cysteine_fraction','Proline_fraction','Gravy_Score','Total_Residues']\n",
    "df_eSOL = get_df_ML(eSOL_SWI_ML,eSOL_features)\n",
    "df_eSOL_cleaned = get_df_ML(eSOL_SWI_ML_cleaned,eSOL_features)\n",
    "\n",
    "print(len(DNASU_SWI_ML),len(eSOL_SWI_ML), len(eSOL_SWI_ML_cleaned))\n",
    "print(len(DNASU_SWI_ML)+len(eSOL_SWI_ML)+ len(eSOL_SWI_ML_cleaned))\n",
    "\n"
   ]
  },
  {
   "cell_type": "code",
   "execution_count": 4,
   "id": "1c27956e",
   "metadata": {},
   "outputs": [],
   "source": [
    "DNASUSeq = pd.read_csv(\"results_DNASUSeq.csv\", sep=',',header=None )\n",
    "eSolSeq = pd.read_csv(\"results_eSolSeq.csv\", sep=',', header=None)\n",
    "eSolCleanSeq = pd.read_csv(\"results_eSolCleanSeq.csv\", sep=',',header=None)\n"
   ]
  },
  {
   "cell_type": "markdown",
   "id": "d7a4e17d",
   "metadata": {},
   "source": [
    "## Mapping UniprotID's to sequences"
   ]
  },
  {
   "cell_type": "code",
   "execution_count": 5,
   "id": "9eec2c9a",
   "metadata": {
    "scrolled": true
   },
   "outputs": [
    {
     "name": "stderr",
     "output_type": "stream",
     "text": [
      "/var/folders/3j/bhbg34qd24553j30j22dbny40000gn/T/ipykernel_97970/3749596569.py:4: SettingWithCopyWarning: \n",
      "A value is trying to be set on a copy of a slice from a DataFrame\n",
      "\n",
      "See the caveats in the documentation: https://pandas.pydata.org/pandas-docs/stable/user_guide/indexing.html#returning-a-view-versus-a-copy\n",
      "  eSOL_SWI_ML_cleaned[\"UniprotID\"][i]=eSolCleanSeq[1][i].split(\"|\")[1]\n"
     ]
    }
   ],
   "source": [
    "eSOL_SWI_ML_cleaned[\"UniprotID\"]=\"\"\n",
    "organisms_eSolClean=[]\n",
    "for i in range(len(eSolCleanSeq)):\n",
    "    eSOL_SWI_ML_cleaned[\"UniprotID\"][i]=eSolCleanSeq[1][i].split(\"|\")[1]\n",
    "    organisms_eSolClean.append(eSolCleanSeq[1][i].split(\"_\")[1])\n"
   ]
  },
  {
   "cell_type": "code",
   "execution_count": 6,
   "id": "c37ec2b9",
   "metadata": {},
   "outputs": [
    {
     "name": "stderr",
     "output_type": "stream",
     "text": [
      "/var/folders/3j/bhbg34qd24553j30j22dbny40000gn/T/ipykernel_97970/1390034118.py:4: SettingWithCopyWarning: \n",
      "A value is trying to be set on a copy of a slice from a DataFrame\n",
      "\n",
      "See the caveats in the documentation: https://pandas.pydata.org/pandas-docs/stable/user_guide/indexing.html#returning-a-view-versus-a-copy\n",
      "  eSOL_SWI_ML[\"UniprotID\"][i]=eSolSeq[1][i].split(\"|\")[1]\n"
     ]
    }
   ],
   "source": [
    "eSOL_SWI_ML[\"UniprotID\"]=\"\"\n",
    "organisms_eSol=[]\n",
    "for i in range(len(eSolSeq)):\n",
    "    eSOL_SWI_ML[\"UniprotID\"][i]=eSolSeq[1][i].split(\"|\")[1]\n",
    "    organisms_eSol.append(eSolSeq[1][i].split(\"_\")[1])"
   ]
  },
  {
   "cell_type": "code",
   "execution_count": 7,
   "id": "5399acb2",
   "metadata": {},
   "outputs": [
    {
     "name": "stderr",
     "output_type": "stream",
     "text": [
      "/var/folders/3j/bhbg34qd24553j30j22dbny40000gn/T/ipykernel_97970/2931771381.py:11: SettingWithCopyWarning: \n",
      "A value is trying to be set on a copy of a slice from a DataFrame\n",
      "\n",
      "See the caveats in the documentation: https://pandas.pydata.org/pandas-docs/stable/user_guide/indexing.html#returning-a-view-versus-a-copy\n",
      "  DNASU_SWI_ML[\"UniprotID\"][uniprot[i][0]] = uniprot[i][1]\n"
     ]
    }
   ],
   "source": [
    "DNASU_SWI_ML[\"UniprotID\"]=\"\"\n",
    "organisms_DNASU=[]\n",
    "uniprot=[]\n",
    "for i in range(len(DNASUSeq)):\n",
    "    row = int(DNASUSeq[0][i].split(\"seq\")[1])\n",
    "    UniId= DNASUSeq[1][i].split(\"|\")[1]\n",
    "    organisms_DNASU.append(DNASUSeq[1][i].split(\"_\")[1])\n",
    "    uniprot.append((row,UniId))\n",
    "        \n",
    "for i in range(len(DNASUSeq)):\n",
    "    DNASU_SWI_ML[\"UniprotID\"][uniprot[i][0]] = uniprot[i][1]\n",
    "    "
   ]
  },
  {
   "cell_type": "code",
   "execution_count": 8,
   "id": "fc9bd990",
   "metadata": {},
   "outputs": [],
   "source": [
    "eSOL_SWI_ML_cleaned[\"UniprotID\"]\n",
    "eSOL_SWI_ML[\"UniprotID\"]\n",
    "DNASU_SWI_ML[\"UniprotID\"]\n",
    "sol_uniprot = pd.concat([eSOL_SWI_ML_cleaned[\"UniprotID\"],eSOL_SWI_ML[\"UniprotID\"],DNASU_SWI_ML[\"UniprotID\"]]).sort_index().values.tolist()\n",
    "\n",
    "textfile = open(\"sol_uniprot.csv\", \"w\")\n",
    "for element in sol_uniprot:\n",
    "    textfile.write(element+\"\\n\")\n",
    "textfile.close()\n"
   ]
  },
  {
   "cell_type": "code",
   "execution_count": 9,
   "id": "e013d491",
   "metadata": {},
   "outputs": [],
   "source": [
    "eSOL_SWI_ML_cleaned.to_csv(\"Uniprot_eSOL_clean.csv\",  index=False)\n",
    "\n",
    "eSOL_SWI_ML.to_csv(\"Uniprot_eSOL.csv\", index=False)\n",
    "DNASU_SWI_ML.to_csv(\"Uniprot_DNASU.csv\", index=False)\n",
    "\n"
   ]
  },
  {
   "cell_type": "code",
   "execution_count": 5,
   "id": "70a067f9",
   "metadata": {},
   "outputs": [
    {
     "name": "stdout",
     "output_type": "stream",
     "text": [
      "17651\n"
     ]
    }
   ],
   "source": [
    "sol_uniprot_complete = pd.concat([eSOL_SWI_ML_cleaned,eSOL_SWI_ML,DNASU_SWI_ML],ignore_index=True)\n",
    "print(len(sol_uniprot_complete))\n",
    "sol_uniprot_complete.to_csv(\"sol_uniprot_complete.csv\", index=False)"
   ]
  }
 ],
 "metadata": {
  "kernelspec": {
   "display_name": "Python 3 (ipykernel)",
   "language": "python",
   "name": "python3"
  },
  "language_info": {
   "codemirror_mode": {
    "name": "ipython",
    "version": 3
   },
   "file_extension": ".py",
   "mimetype": "text/x-python",
   "name": "python",
   "nbconvert_exporter": "python",
   "pygments_lexer": "ipython3",
   "version": "3.9.7"
  }
 },
 "nbformat": 4,
 "nbformat_minor": 5
}
