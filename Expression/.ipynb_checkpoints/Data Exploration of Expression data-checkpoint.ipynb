{
 "cells": [
  {
   "cell_type": "markdown",
   "id": "1a80dbc1",
   "metadata": {},
   "source": [
    "In this notebook, we mapped the Human Proteins RNA expression GeneID's from the Human Proteine Altas to Uniprot ID's using https://www.uniprot.org/. "
   ]
  },
  {
   "cell_type": "markdown",
   "id": "c053905d",
   "metadata": {},
   "source": [
    "## Load packages "
   ]
  },
  {
   "cell_type": "code",
   "execution_count": 20,
   "id": "aa69367f",
   "metadata": {},
   "outputs": [],
   "source": [
    "import pandas as pd\n",
    "import matplotlib.pyplot as plt\n",
    "import seaborn as sns\n",
    "import sys\n",
    "import numpy as np"
   ]
  },
  {
   "cell_type": "markdown",
   "id": "2081e8c9",
   "metadata": {},
   "source": [
    "## Load Original Expression Consensus data "
   ]
  },
  {
   "cell_type": "code",
   "execution_count": 21,
   "id": "43bcd48a",
   "metadata": {},
   "outputs": [
    {
     "data": {
      "text/html": [
       "<div>\n",
       "<style scoped>\n",
       "    .dataframe tbody tr th:only-of-type {\n",
       "        vertical-align: middle;\n",
       "    }\n",
       "\n",
       "    .dataframe tbody tr th {\n",
       "        vertical-align: top;\n",
       "    }\n",
       "\n",
       "    .dataframe thead th {\n",
       "        text-align: right;\n",
       "    }\n",
       "</style>\n",
       "<table border=\"1\" class=\"dataframe\">\n",
       "  <thead>\n",
       "    <tr style=\"text-align: right;\">\n",
       "      <th></th>\n",
       "      <th>Gene</th>\n",
       "      <th>Gene_name</th>\n",
       "      <th>Tissue</th>\n",
       "      <th>NX</th>\n",
       "    </tr>\n",
       "  </thead>\n",
       "  <tbody>\n",
       "    <tr>\n",
       "      <th>0</th>\n",
       "      <td>ENSG00000000003</td>\n",
       "      <td>TSPAN6</td>\n",
       "      <td>adipose tissue</td>\n",
       "      <td>27.0</td>\n",
       "    </tr>\n",
       "    <tr>\n",
       "      <th>1</th>\n",
       "      <td>ENSG00000000003</td>\n",
       "      <td>TSPAN6</td>\n",
       "      <td>B-cells</td>\n",
       "      <td>0.3</td>\n",
       "    </tr>\n",
       "    <tr>\n",
       "      <th>2</th>\n",
       "      <td>ENSG00000000003</td>\n",
       "      <td>TSPAN6</td>\n",
       "      <td>cerebellum</td>\n",
       "      <td>2.9</td>\n",
       "    </tr>\n",
       "    <tr>\n",
       "      <th>3</th>\n",
       "      <td>ENSG00000000003</td>\n",
       "      <td>TSPAN6</td>\n",
       "      <td>corpus callosum</td>\n",
       "      <td>12.6</td>\n",
       "    </tr>\n",
       "    <tr>\n",
       "      <th>4</th>\n",
       "      <td>ENSG00000000003</td>\n",
       "      <td>TSPAN6</td>\n",
       "      <td>endometrium</td>\n",
       "      <td>11.1</td>\n",
       "    </tr>\n",
       "    <tr>\n",
       "      <th>...</th>\n",
       "      <td>...</td>\n",
       "      <td>...</td>\n",
       "      <td>...</td>\n",
       "      <td>...</td>\n",
       "    </tr>\n",
       "    <tr>\n",
       "      <th>295111</th>\n",
       "      <td>ENSG00000285509</td>\n",
       "      <td>AP000646.1</td>\n",
       "      <td>ovary</td>\n",
       "      <td>0.8</td>\n",
       "    </tr>\n",
       "    <tr>\n",
       "      <th>295112</th>\n",
       "      <td>ENSG00000285509</td>\n",
       "      <td>AP000646.1</td>\n",
       "      <td>prostate</td>\n",
       "      <td>0.6</td>\n",
       "    </tr>\n",
       "    <tr>\n",
       "      <th>295113</th>\n",
       "      <td>ENSG00000285509</td>\n",
       "      <td>AP000646.1</td>\n",
       "      <td>skeletal muscle</td>\n",
       "      <td>0.0</td>\n",
       "    </tr>\n",
       "    <tr>\n",
       "      <th>295114</th>\n",
       "      <td>ENSG00000285509</td>\n",
       "      <td>AP000646.1</td>\n",
       "      <td>spleen</td>\n",
       "      <td>0.0</td>\n",
       "    </tr>\n",
       "    <tr>\n",
       "      <th>295115</th>\n",
       "      <td>ENSG00000285509</td>\n",
       "      <td>AP000646.1</td>\n",
       "      <td>thyroid gland</td>\n",
       "      <td>0.0</td>\n",
       "    </tr>\n",
       "  </tbody>\n",
       "</table>\n",
       "<p>295116 rows × 4 columns</p>\n",
       "</div>"
      ],
      "text/plain": [
       "                   Gene   Gene_name           Tissue    NX\n",
       "0       ENSG00000000003      TSPAN6   adipose tissue  27.0\n",
       "1       ENSG00000000003      TSPAN6          B-cells   0.3\n",
       "2       ENSG00000000003      TSPAN6       cerebellum   2.9\n",
       "3       ENSG00000000003      TSPAN6  corpus callosum  12.6\n",
       "4       ENSG00000000003      TSPAN6      endometrium  11.1\n",
       "...                 ...         ...              ...   ...\n",
       "295111  ENSG00000285509  AP000646.1            ovary   0.8\n",
       "295112  ENSG00000285509  AP000646.1         prostate   0.6\n",
       "295113  ENSG00000285509  AP000646.1  skeletal muscle   0.0\n",
       "295114  ENSG00000285509  AP000646.1           spleen   0.0\n",
       "295115  ENSG00000285509  AP000646.1    thyroid gland   0.0\n",
       "\n",
       "[295116 rows x 4 columns]"
      ]
     },
     "execution_count": 21,
     "metadata": {},
     "output_type": "execute_result"
    }
   ],
   "source": [
    "#%%\n",
    "temp = []\n",
    "ENTRY_LENGTH = 4\n",
    "\n",
    "raw_data = open(\"HPA_RNA_CONSENSUS.tsv\",'r')\n",
    "data = raw_data.readlines()\n",
    "for element in data:\n",
    "    temp.append(element.strip().split(\"\\t\"))\n",
    "num_instances = len(data)/ENTRY_LENGTH\n",
    "\n",
    "# split into instances\n",
    "expression = []\n",
    "for i in range(ENTRY_LENGTH, len(temp)+1, ENTRY_LENGTH):\n",
    "    tmp_list = temp[i-3]\n",
    "    expression.append(tmp_list)\n",
    "    del tmp_list \n",
    "\n",
    "# make dataframe \n",
    "df = pd.DataFrame(expression, columns =['Gene', 'Gene_name', 'Tissue', 'NX'])\n",
    "df\n"
   ]
  },
  {
   "cell_type": "markdown",
   "id": "79a5a91c",
   "metadata": {},
   "source": [
    "## Make .txt file containing all Gene ID's which will be uploaded in Uniprot to obtain Uniprot ID's"
   ]
  },
  {
   "cell_type": "code",
   "execution_count": 4,
   "id": "d4dd7f7a",
   "metadata": {},
   "outputs": [],
   "source": [
    "Genes = df[\"Gene\"]\n",
    "Genes = Genes.drop_duplicates()\n",
    "textfile = open(\"ExpressionGeneNames.txt\", \"w\")\n",
    "for element in Genes:\n",
    "    textfile.write(element + \"\\n\")\n",
    "textfile.close()\n"
   ]
  },
  {
   "cell_type": "code",
   "execution_count": 5,
   "id": "9b92d69c",
   "metadata": {},
   "outputs": [
    {
     "data": {
      "text/plain": [
       "0         ENSG00000000003\n",
       "16        ENSG00000000005\n",
       "31        ENSG00000000419\n",
       "46        ENSG00000000457\n",
       "61        ENSG00000000460\n",
       "               ...       \n",
       "295061    ENSG00000285471\n",
       "295072    ENSG00000285472\n",
       "295083    ENSG00000285480\n",
       "295094    ENSG00000285508\n",
       "295105    ENSG00000285509\n",
       "Name: Gene, Length: 19670, dtype: object"
      ]
     },
     "execution_count": 5,
     "metadata": {},
     "output_type": "execute_result"
    }
   ],
   "source": [
    "Genes"
   ]
  },
  {
   "cell_type": "markdown",
   "id": "3484ca5b",
   "metadata": {},
   "source": [
    "## Load Uniprot ID file obtained from Uniprot"
   ]
  },
  {
   "cell_type": "code",
   "execution_count": 6,
   "id": "008806dc",
   "metadata": {},
   "outputs": [],
   "source": [
    "ExpressionUniprot = []\n",
    "Expression_GeneID = []\n",
    "f=open(\"/Users/priya/Documenten/GitHub/BioinformaticsMajorProject/Data/Raw_Data/GeneToUniprotExpression.txt\",\"r\")\n",
    "next(f)\n",
    "lines=f.readlines()\n",
    "for x in lines:\n",
    "    ExpressionUniprot.append(x.split('\\t')[1].strip())\n",
    "    Expression_GeneID.append(x.split('\\t')[0].strip())\n",
    "f.close()\n",
    "\n",
    "df_Expression = pd.DataFrame({\"Gene_ID\":Expression_GeneID,\"Uniprot_ID\":ExpressionUniprot})\n"
   ]
  },
  {
   "cell_type": "markdown",
   "id": "f29a97be",
   "metadata": {},
   "source": [
    "## Making dictonary to map Uniprot ID's (values) to Gene ID's (keys):"
   ]
  },
  {
   "cell_type": "code",
   "execution_count": 7,
   "id": "bf41acdc",
   "metadata": {},
   "outputs": [],
   "source": [
    "new_dict = {}\n",
    "for i in range(len(Expression_GeneID)):\n",
    "    if Expression_GeneID[i] in new_dict:\n",
    "        new_dict[Expression_GeneID[i]].append(ExpressionUniprot[i])\n",
    "    else:\n",
    "        new_dict[Expression_GeneID[i]] = [ExpressionUniprot[i]]\n",
    "\n",
    "temp = []\n",
    "for i in range(len(df)):\n",
    "    if df[\"Gene\"][i] in new_dict:\n",
    "        test = new_dict[df[\"Gene\"][i]]\n",
    "        temp.append(test)\n",
    "    else:\n",
    "        temp.append(np.nan)\n",
    "\n",
    "df_uni = pd.DataFrame({\"Uniprot_ID\":temp})\n",
    "df_Complete = pd.concat([df, df_uni], axis=1, join='inner')"
   ]
  },
  {
   "cell_type": "code",
   "execution_count": 19,
   "id": "c5aa5d01",
   "metadata": {},
   "outputs": [],
   "source": [
    "test = df_Complete.explode('Uniprot_ID')\n",
    "test.to_csv('ExpressionGenesAndUniprot.csv')"
   ]
  },
  {
   "cell_type": "code",
   "execution_count": 17,
   "id": "77049c5b",
   "metadata": {},
   "outputs": [
    {
     "data": {
      "text/html": [
       "<div>\n",
       "<style scoped>\n",
       "    .dataframe tbody tr th:only-of-type {\n",
       "        vertical-align: middle;\n",
       "    }\n",
       "\n",
       "    .dataframe tbody tr th {\n",
       "        vertical-align: top;\n",
       "    }\n",
       "\n",
       "    .dataframe thead th {\n",
       "        text-align: right;\n",
       "    }\n",
       "</style>\n",
       "<table border=\"1\" class=\"dataframe\">\n",
       "  <thead>\n",
       "    <tr style=\"text-align: right;\">\n",
       "      <th></th>\n",
       "      <th>Gene</th>\n",
       "      <th>Gene_name</th>\n",
       "      <th>Tissue</th>\n",
       "      <th>NX</th>\n",
       "      <th>Uniprot_ID</th>\n",
       "    </tr>\n",
       "  </thead>\n",
       "  <tbody>\n",
       "    <tr>\n",
       "      <th>0</th>\n",
       "      <td>ENSG00000000003</td>\n",
       "      <td>TSPAN6</td>\n",
       "      <td>adipose tissue</td>\n",
       "      <td>27.0</td>\n",
       "      <td>O43657</td>\n",
       "    </tr>\n",
       "    <tr>\n",
       "      <th>1</th>\n",
       "      <td>ENSG00000000003</td>\n",
       "      <td>TSPAN6</td>\n",
       "      <td>B-cells</td>\n",
       "      <td>0.3</td>\n",
       "      <td>O43657</td>\n",
       "    </tr>\n",
       "    <tr>\n",
       "      <th>2</th>\n",
       "      <td>ENSG00000000003</td>\n",
       "      <td>TSPAN6</td>\n",
       "      <td>cerebellum</td>\n",
       "      <td>2.9</td>\n",
       "      <td>O43657</td>\n",
       "    </tr>\n",
       "    <tr>\n",
       "      <th>3</th>\n",
       "      <td>ENSG00000000003</td>\n",
       "      <td>TSPAN6</td>\n",
       "      <td>corpus callosum</td>\n",
       "      <td>12.6</td>\n",
       "      <td>O43657</td>\n",
       "    </tr>\n",
       "    <tr>\n",
       "      <th>4</th>\n",
       "      <td>ENSG00000000003</td>\n",
       "      <td>TSPAN6</td>\n",
       "      <td>endometrium</td>\n",
       "      <td>11.1</td>\n",
       "      <td>O43657</td>\n",
       "    </tr>\n",
       "    <tr>\n",
       "      <th>...</th>\n",
       "      <td>...</td>\n",
       "      <td>...</td>\n",
       "      <td>...</td>\n",
       "      <td>...</td>\n",
       "      <td>...</td>\n",
       "    </tr>\n",
       "    <tr>\n",
       "      <th>295111</th>\n",
       "      <td>ENSG00000285509</td>\n",
       "      <td>AP000646.1</td>\n",
       "      <td>ovary</td>\n",
       "      <td>0.8</td>\n",
       "      <td>NaN</td>\n",
       "    </tr>\n",
       "    <tr>\n",
       "      <th>295112</th>\n",
       "      <td>ENSG00000285509</td>\n",
       "      <td>AP000646.1</td>\n",
       "      <td>prostate</td>\n",
       "      <td>0.6</td>\n",
       "      <td>NaN</td>\n",
       "    </tr>\n",
       "    <tr>\n",
       "      <th>295113</th>\n",
       "      <td>ENSG00000285509</td>\n",
       "      <td>AP000646.1</td>\n",
       "      <td>skeletal muscle</td>\n",
       "      <td>0.0</td>\n",
       "      <td>NaN</td>\n",
       "    </tr>\n",
       "    <tr>\n",
       "      <th>295114</th>\n",
       "      <td>ENSG00000285509</td>\n",
       "      <td>AP000646.1</td>\n",
       "      <td>spleen</td>\n",
       "      <td>0.0</td>\n",
       "      <td>NaN</td>\n",
       "    </tr>\n",
       "    <tr>\n",
       "      <th>295115</th>\n",
       "      <td>ENSG00000285509</td>\n",
       "      <td>AP000646.1</td>\n",
       "      <td>thyroid gland</td>\n",
       "      <td>0.0</td>\n",
       "      <td>NaN</td>\n",
       "    </tr>\n",
       "  </tbody>\n",
       "</table>\n",
       "<p>295528 rows × 5 columns</p>\n",
       "</div>"
      ],
      "text/plain": [
       "                   Gene   Gene_name           Tissue    NX Uniprot_ID\n",
       "0       ENSG00000000003      TSPAN6   adipose tissue  27.0     O43657\n",
       "1       ENSG00000000003      TSPAN6          B-cells   0.3     O43657\n",
       "2       ENSG00000000003      TSPAN6       cerebellum   2.9     O43657\n",
       "3       ENSG00000000003      TSPAN6  corpus callosum  12.6     O43657\n",
       "4       ENSG00000000003      TSPAN6      endometrium  11.1     O43657\n",
       "...                 ...         ...              ...   ...        ...\n",
       "295111  ENSG00000285509  AP000646.1            ovary   0.8        NaN\n",
       "295112  ENSG00000285509  AP000646.1         prostate   0.6        NaN\n",
       "295113  ENSG00000285509  AP000646.1  skeletal muscle   0.0        NaN\n",
       "295114  ENSG00000285509  AP000646.1           spleen   0.0        NaN\n",
       "295115  ENSG00000285509  AP000646.1    thyroid gland   0.0        NaN\n",
       "\n",
       "[295528 rows x 5 columns]"
      ]
     },
     "execution_count": 17,
     "metadata": {},
     "output_type": "execute_result"
    }
   ],
   "source": [
    "test"
   ]
  },
  {
   "cell_type": "markdown",
   "id": "2e15fa35",
   "metadata": {},
   "source": [
    "## Make .txt file containing all Uniprot ID's. This file will be uploaded to Uniprot to obtain PDB ID's"
   ]
  },
  {
   "cell_type": "code",
   "execution_count": 8,
   "id": "a3b7455c",
   "metadata": {},
   "outputs": [],
   "source": [
    "new_df=(df_Expression.set_index([\"Uniprot_ID\"])\n",
    "   .apply(lambda x: x.str.split(',').explode())\n",
    "   .reset_index())\n",
    "new_df=new_df.set_index([\"Gene_ID\"]).reset_index()\n",
    "new_df[\"Uniprot_ID\"].to_csv(r'ExpressionUniprot.txt', index=False)\n"
   ]
  },
  {
   "cell_type": "markdown",
   "id": "9ad3b5c9",
   "metadata": {},
   "source": [
    "## Load file obtained from Uniprot that contains Uniprot ID's and their corresponding PDB ID's"
   ]
  },
  {
   "cell_type": "code",
   "execution_count": 9,
   "id": "8451daed",
   "metadata": {},
   "outputs": [],
   "source": [
    "Uni=[]\n",
    "PDB=[]\n",
    "f=open(\"ExpressionUniPDB.txt\",\"r\")\n",
    "next(f)\n",
    "lines=f.readlines()\n",
    "for x in lines:\n",
    "    PDB.append(x.split('\\t')[1].strip())\n",
    "    Uni.append(x.split('\\t')[0].strip())\n",
    "f.close()\n",
    "\n",
    "ex_df = df_Complete.explode('Uniprot_ID').reset_index()"
   ]
  },
  {
   "cell_type": "markdown",
   "id": "0432d721",
   "metadata": {},
   "source": [
    "## Making dictionary of where the keys are Uniprot ID and the values are the corresponding PDB ID's"
   ]
  },
  {
   "cell_type": "code",
   "execution_count": 10,
   "id": "94e93e78",
   "metadata": {},
   "outputs": [],
   "source": [
    "dic = {}\n",
    "for i in range(len(Uni)):\n",
    "    if Uni[i] in dic:\n",
    "        dic[Uni[i]].append(PDB[i])\n",
    "    else:\n",
    "        dic[Uni[i]] = [PDB[i]]\n",
    "\n",
    "\n",
    "temp=[]\n",
    "for i in range(len(ex_df)):\n",
    "    if ex_df[\"Uniprot_ID\"][i] in dic:\n",
    "        test = dic[ex_df[\"Uniprot_ID\"][i]]\n",
    "        temp.append(test)\n",
    "    else:\n",
    "        temp.append([np.nan])\n"
   ]
  },
  {
   "cell_type": "code",
   "execution_count": 11,
   "id": "8db7eaec",
   "metadata": {},
   "outputs": [],
   "source": [
    "df_PDB = pd.DataFrame({\"PDB\":temp})\n",
    "ex_df = pd.concat([ex_df, df_PDB], axis=1, join='inner')\n"
   ]
  },
  {
   "cell_type": "code",
   "execution_count": 16,
   "id": "bf6dbbe7",
   "metadata": {},
   "outputs": [],
   "source": [
    "ex_df=ex_df.explode('PDB').reset_index()"
   ]
  },
  {
   "cell_type": "code",
   "execution_count": 18,
   "id": "3fafa728",
   "metadata": {},
   "outputs": [],
   "source": [
    "ex_df.to_csv(r'ExpressionComplete.csv', index=None)"
   ]
  }
 ],
 "metadata": {
  "kernelspec": {
   "display_name": "Python 3 (ipykernel)",
   "language": "python",
   "name": "python3"
  },
  "language_info": {
   "codemirror_mode": {
    "name": "ipython",
    "version": 3
   },
   "file_extension": ".py",
   "mimetype": "text/x-python",
   "name": "python",
   "nbconvert_exporter": "python",
   "pygments_lexer": "ipython3",
   "version": "3.9.7"
  }
 },
 "nbformat": 4,
 "nbformat_minor": 5
}
